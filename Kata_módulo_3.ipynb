{
 "cells": [
  {
   "cell_type": "markdown",
   "metadata": {},
   "source": [
    "## Ejercicio uno\n",
    "Declaraciones IF, ELSE y ELIF.\n",
    "Almacenar variable de la velocidad del asteroide y enviar advertencia según corresponda."
   ]
  },
  {
   "cell_type": "code",
   "execution_count": 9,
   "metadata": {},
   "outputs": [
    {
     "name": "stdout",
     "output_type": "stream",
     "text": [
      "¡CUIDADO! ¡Un asteroide se acerca a la tierra a una velocidad peligrosa!\n"
     ]
    }
   ],
   "source": [
    "asteroide = 63\n",
    "if asteroide > 40:\n",
    "    print('¡CUIDADO! ¡Un asteroide se acerca a la tierra a una velocidad peligrosa!')\n",
    "else:\n",
    "    print('No se registran asteroides acercandose a la tierra, disfruta tu día!')"
   ]
  },
  {
   "cell_type": "markdown",
   "metadata": {},
   "source": [
    "## Ejercicio 2\n",
    "Declaraciones IF, ELSE y ELIF. Combinar declaraciones.\n"
   ]
  },
  {
   "cell_type": "code",
   "execution_count": 11,
   "metadata": {},
   "outputs": [
    {
     "name": "stdout",
     "output_type": "stream",
     "text": [
      "¡Voltea al cielo! ¡Hay una luz mágica acercandose!\n"
     ]
    }
   ],
   "source": [
    "asteroide = 35\n",
    "if asteroide > 30:\n",
    "    print('¡Voltea al cielo! ¡Hay una luz mágica acercandose!')\n",
    "elif asteroide == 30:\n",
    "    print('¡Voltea al cielo! ¡Hay una luz mágica acercandose!')\n",
    "else:\n",
    "    print('Todo esta bien, no hay peligro acercandose!')"
   ]
  },
  {
   "cell_type": "markdown",
   "metadata": {},
   "source": [
    "## Ejercicio 3.\n",
    "Operadores AND y OR."
   ]
  },
  {
   "cell_type": "code",
   "execution_count": 12,
   "metadata": {},
   "outputs": [
    {
     "name": "stdout",
     "output_type": "stream",
     "text": [
      "¡Voltea al cielo! ¡Hay una luz mágica acercandose!\n"
     ]
    }
   ],
   "source": [
    "velocidad_asteroide = 35\n",
    "tamano_asteroide = 50\n",
    "if velocidad_asteroide > 35 and tamano_asteroide > 35:\n",
    "    print('¡CUIDADO! ¡Un asteroide se acerca a la tierra a una velocidad peligrosa!')\n",
    "elif velocidad_asteroide >= 25:\n",
    "    print('¡Voltea al cielo! ¡Hay una luz mágica acercandose!')\n",
    "elif tamano_asteroide < 35:\n",
    "    print('Todo esta bien, no hay peligro acercandose!')\n",
    "else:\n",
    "    print('Todo esta bien, no hay peligro acercandose!')"
   ]
  }
 ],
 "metadata": {
  "interpreter": {
   "hash": "82f65913c67bcfb0f3455aecedd3916b59e80be050f841084f6c9f27d0fe5cbe"
  },
  "kernelspec": {
   "display_name": "Python 3.9.10 64-bit (windows store)",
   "language": "python",
   "name": "python3"
  },
  "language_info": {
   "codemirror_mode": {
    "name": "ipython",
    "version": 3
   },
   "file_extension": ".py",
   "mimetype": "text/x-python",
   "name": "python",
   "nbconvert_exporter": "python",
   "pygments_lexer": "ipython3",
   "version": "3.9.10"
  },
  "orig_nbformat": 4
 },
 "nbformat": 4,
 "nbformat_minor": 2
}
